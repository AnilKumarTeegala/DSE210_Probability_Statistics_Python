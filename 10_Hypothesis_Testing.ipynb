{
 "cells": [
  {
   "cell_type": "markdown",
   "metadata": {},
   "source": [
    "<img src = \"images/Worksheet10/Header.png\">"
   ]
  },
  {
   "cell_type": "code",
   "execution_count": 4,
   "metadata": {
    "collapsed": false
   },
   "outputs": [
    {
     "name": "stdout",
     "output_type": "stream",
     "text": [
      "Problems 1, 2, 6, 7, 8, 9, 10, 12\n"
     ]
    }
   ],
   "source": [
    "%matplotlib inline\n",
    "print \"Problems 1, 2, 6, 7, 8, 9, 10, 12\""
   ]
  },
  {
   "cell_type": "markdown",
   "metadata": {
    "collapsed": false
   },
   "source": [
    "<img src = \"images/Worksheet10/1.png\">"
   ]
  },
  {
   "cell_type": "markdown",
   "metadata": {},
   "source": [
    "<b>1.</b> Not enough information. Deaths could be attributed to many things. "
   ]
  },
  {
   "cell_type": "markdown",
   "metadata": {},
   "source": [
    "<img src = \"images/Worksheet10/2.png\">"
   ]
  },
  {
   "cell_type": "markdown",
   "metadata": {},
   "source": [
    "<b>(a)</b> Observational study <p></p>\n",
    "<b>(b)</b> The study was trying to limit confounding factors <p></p>\n",
    "<b>(c)</b> That conclusion ignores other confounding factors (people being forced to stop smoking etc) <p></p>"
   ]
  },
  {
   "cell_type": "markdown",
   "metadata": {},
   "source": [
    "<img src = \"images/Worksheet10/6.png\">"
   ]
  },
  {
   "cell_type": "markdown",
   "metadata": {},
   "source": [
    "<b>(a)</b> Null hypothesis: coin is not biased. <p></p>\n",
    "Alternative hypothesis: Coin is biased if I find with 95 % confidence that it is over the upward bound (2 standard deviations). <p></p>\n",
    "<b>(b)</b> z = <sup>((Observed) - (expected))</sup>&frasl;<sub>standard deviation</sub> => z = <sup>((5400) - (5000))</sup>&frasl;<sub>50</sub> = 8  <p></p>\n",
    "<i>p-</i>value: way less than 1% <p></p>\n",
    "<b>(c)</b> The coined is obviously biased towards heads (with 95% + confidence)"
   ]
  },
  {
   "cell_type": "markdown",
   "metadata": {
    "collapsed": false
   },
   "source": [
    "<img src = \"images/Worksheet10/7.png\">"
   ]
  },
  {
   "cell_type": "markdown",
   "metadata": {},
   "source": [
    "<b>approach:</b> find z statistic <p></p>\n",
    "z = <sup>((Observed) - (expected))</sup>&frasl;<sub>standard deviation</sub> => z = <sup>((368) - (350))</sup>&frasl;<sub>var<sup>1/2</sup></sub><p></p>\n",
    "var = n * (E(X<sup>2</sup>) - &micro;<sup>2</sup>)\n"
   ]
  },
  {
   "cell_type": "markdown",
   "metadata": {
    "collapsed": false
   },
   "source": [
    "<img src = \"images/Worksheet10/8.png\">"
   ]
  },
  {
   "cell_type": "markdown",
   "metadata": {},
   "source": [
    "<img src = \"images/Worksheet10/9.png\">"
   ]
  },
  {
   "cell_type": "markdown",
   "metadata": {
    "collapsed": false
   },
   "source": [
    "<img src = \"images/Worksheet10/10.png\">"
   ]
  },
  {
   "cell_type": "markdown",
   "metadata": {
    "collapsed": false
   },
   "source": []
  }
 ],
 "metadata": {
  "kernelspec": {
   "display_name": "Python 2",
   "language": "python",
   "name": "python2"
  },
  "language_info": {
   "codemirror_mode": {
    "name": "ipython",
    "version": 2
   },
   "file_extension": ".py",
   "mimetype": "text/x-python",
   "name": "python",
   "nbconvert_exporter": "python",
   "pygments_lexer": "ipython2",
   "version": "2.7.11"
  }
 },
 "nbformat": 4,
 "nbformat_minor": 0
}
