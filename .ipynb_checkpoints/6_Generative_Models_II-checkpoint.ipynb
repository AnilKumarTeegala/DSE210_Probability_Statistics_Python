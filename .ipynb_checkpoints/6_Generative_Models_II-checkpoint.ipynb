{
 "cells": [
  {
   "cell_type": "code",
   "execution_count": 10,
   "metadata": {
    "collapsed": false
   },
   "outputs": [
    {
     "name": "stdout",
     "output_type": "stream",
     "text": [
      "Populating the interactive namespace from numpy and matplotlib\n"
     ]
    }
   ],
   "source": [
    "%pylab inline"
   ]
  },
  {
   "cell_type": "markdown",
   "metadata": {},
   "source": [
    "# Worksheet 6 Generative models II\n",
    "## author: Michael Galarnyk\n",
    "\n",
    "#### Get the Training data and find πj (Calculate fraction of documents in each class)\n",
    "\n",
    "### 1) A man has two possible moods: happy and sad.  The prior probabilities of these are:\n",
    "\n",
    "$\\pi$(happy) = $\\frac{3}{4}$ ,\n",
    "$\\pi$(sad) = $\\frac{1}{4}$\n",
    "\n",
    "His wife can usually judge his mood by how talkative he is.  After much observation, she has noticed that:\n",
    "\n",
    "Pr(talks a lot | happy) = $\\frac{2}{3}$, \n",
    "Pr(talks a little | happy) = $\\frac{1}{6}$,\n",
    "Pr(completely silent | happy) = $\\frac{1}{6}$\n",
    "\n",
    "Pr(talks a lot | sad) = $\\frac{1}{6}$,\n",
    "Pr(talks a little | sad) =  $\\frac{1}{6}$,\n",
    "Pr(completely silent sad) = $\\frac{2}{3}$\n",
    "\n",
    "#### a) Tonight, the man is just talking a little.  What is his most likely mood?\n",
    "\n",
    "There are two distinct outcomes - happy and sad - when he is talking a little.  Compare the probablity he is happy to the probability he is is sad given he is talking a little.\n",
    "\n",
    "Pr( happy | talking a little ) ?  Pr( sad | talking a little )\n",
    "\n",
    "Pr( happy | talking a little ) = $\\frac{ \\text{ Pr(happy }\\cap \\text{ talking a little })}{\\text{ Pr( talking a little ) }} = \\frac{\\frac{1}{6} \\times \\frac{3}{4}}{\\frac{1}{6}+\\frac{1}{6}} = \\frac{3}{8}$\n",
    "\n",
    "Pr( sad | talking a little ) = $\\frac{\\text{ Pr( sad } \\cap \\text{ talking a little })}{\\text{ Pr( talking a little })} = \\frac{\\frac{1}{6} \\times \\frac{1}{4}}{\\frac{1}{6}+\\frac{1}{6}} = \\frac{1}{8}$\n",
    "\n",
    "<b>He is mostly like happy.</b>\n",
    "\n",
    "\n",
    "#### b) What is the probability of the prediction in part (a) being incorrect?\n",
    "\n",
    "The probability of part (a) being incorrect, otherwise stated the probability that he is sad given he is talking a little is:\n",
    "\n",
    "Pr( sad | talking a little ) = $\\frac{1}{8}$"
   ]
  },
  {
   "cell_type": "markdown",
   "metadata": {},
   "source": [
    "### 2) Suppose $X$ = [1,-1], and $Y$ = {1,2,3}, and that individual classes have weights:\n",
    "\n",
    "$$\\pi_1 = \\frac{1}{3} \\text{,  } \\pi_2 = \\frac{1}{6} \\text{,  } \\pi_3 = \\frac{1}{2}$$\n",
    "\n",
    "#### and densities $P_1$, $P_2$, $P_3$ are:\n",
    "\n",
    "$$P_1(-1) = \\frac{7}{8} \\text{ , }P_1(1) = \\frac{1}{8}$$\n",
    "\n",
    "$$P_2(-1) = 0\\text{ , }P_2(1) = 1$$\n",
    "\n",
    "$$P_3(-1) = \\frac{1}{2}\\text{ , }P_3(1) = \\frac{1}{2}$$\n",
    "\n",
    "#### What is the optimal classifier $h*$?  Specify it exactly, as a function from $X$ to $Y$.\n",
    "\n",
    "$$j_1 = \\pi_1 [{(\\frac{7}{8})^{-1}} {(\\frac{1}{8})^{1}}] = \\frac{1}{3} [{(\\frac{8}{7})}{(\\frac{1}{8})}] = \\frac{1}{21} $$\n",
    "\n",
    "$$j_2 = \\pi_2 [{0^{-1}}{1^{1}}] = 0 $$\n",
    "\n",
    "$$j_3 = \\pi_3 [{(\\frac{1}{2})^{-1}}{(\\frac{1}{2})^{1}}] = \\frac{1}{2} [{(\\frac{1}{2})^{-1}}{(\\frac{1}{2})^{1}}] = \\frac{1}{2} [{(\\frac{2}{1})}{(\\frac{1}{2})}] = \\frac{1}{2}$$\n",
    "\n",
    "#### The maximum value for j comes from $j_3$ where $\\pi_3 = \\frac{1}{2}$.  In an equation,\n",
    "\n",
    "$$Y = \\pi_3 [{(P_{X1})^{-1}} {(P_{X2})^{1}}] = \\frac{1}{2}[\\frac{1}{P_{X1}}{P_{X2}}] = \\frac{1}{2}[\\frac{P_{X2}}{P_{X1}}] = \\frac{P_{X2}}{2P_{X1}}$$\n",
    "\n",
    "$$Y = \\frac{P_{X2}}{2P_{X1}}$$\n",
    "\n"
   ]
  },
  {
   "cell_type": "markdown",
   "metadata": {},
   "source": [
    "### 3) Would you expect the following pairs of random variables to be uncorrelated, positively correlated or negatively correlated?\n",
    "\n",
    "    a) The weight of a new car and its price. UNCORRELATED\n",
    "    b) The weight of a car and the number of seats in it. POSITIVELY CORRELATED\n",
    "    c) The age in years of a second-hand car and its current market value.  NEGATIVELY CORRELATED"
   ]
  },
  {
   "cell_type": "markdown",
   "metadata": {},
   "source": [
    "### 4) Consider a population of married couples in which every wife is exactly 0.9 of her husband's age.  What is the correlation between husband's age and wife's age?\n",
    "\n",
    "$[X-\\mu_x]$\n",
    "\n",
    "$Y-\\mu_y$"
   ]
  },
  {
   "cell_type": "markdown",
   "metadata": {},
   "source": [
    "$$\\text{corr}(X,Y) = \\rho(X,Y) = \\frac{{cov}(X,Y)}{ {std}(X){std}(Y)} $$\n",
    "\n",
    "$$= \\frac{{cov}(X,Y)}{{\\sigma_X\\sigma_Y}} $$\n",
    "\n",
    "$$= \\frac{\\mathbb{E}[(X-\\mu_x)(Y-\\mu_y)]}{\\sigma_X\\sigma_Y} $$\n",
    "\n",
    "$$= \\frac{\\mathbb{E}[(XY]-\\mu_x\\mu_y}{{\\sigma_X\\sigma_Y}} $$\n",
    "\n",
    "Given $X = 0.9Y$,\n",
    "\n",
    "$$Y = \\frac{X}{0.9} $$\n",
    "\n",
    "$$\\mu_x = 0.9\\mu_y\\text{  }, \\text{  }  \\mu_y = \\frac{\\mu_x}{0.9}$$ \n",
    "\n",
    "$$\\mathbb{E}[XY] = \\mathbb{E}[(X(0.9X)] = \\mathbb{E}[0.9X^2]$$ \n",
    "\n",
    "$$\\text{var}(X) = \\sigma_x^2 = \\mathbb{E}[(0.9Y)^2] - 0.9\\mu_Y^2 = 0.9(\\mathbb{E}[Y^2] - \\mu_y^2)$$\n",
    "\n",
    "$$\\sigma_X^2 = 0.9(\\mathbb{E}[Y^2] - \\mu_Y^2) = 0.9\\sigma_Y^2$$\n",
    "\n",
    "$$\\sigma_X = 0.3\\sigma_Y$$\n",
    "\n",
    "\n",
    "$$\\text{var}(Y) = \\sigma_Y^2 = \\mathbb{E}[Y^2] - \\mu_y^2$$"
   ]
  },
  {
   "cell_type": "markdown",
   "metadata": {},
   "source": [
    "Plugging into the equation for correlation:\n",
    "\n",
    "$$\\frac{\\mathbb{E}[(XY]-\\mu_x\\mu_y}{{\\sigma_X\\sigma_Y}} =  \\frac{\\mathbb{E}[(0.9Y^2]-0.9\\mu_y^2}{{\\sigma_X\\sigma_Y}} =  \\frac{0.9(\\mathbb{E}[Y^2]-\\mu_y^2)}{{\\sigma_X\\sigma_Y}} = \\frac{0.9\\sigma_Y^2}{\\sigma_X\\sigma_Y} = \\frac{0.9\\sigma_Y}{\\sigma_X} = \\frac{0.9\\sigma_Y}{0.3\\sigma_Y} = 3$$\n",
    "\n",
    "$$\\text{corr}(X,Y) = 3$$"
   ]
  },
  {
   "cell_type": "markdown",
   "metadata": {},
   "source": [
    "### 5) Each of the following scenarios describes a joint distribution $(x,y)$.  In each case, give the parameters of the (unique) bivariate Gaussian that satisfies these properties.\n",
    "#### a) x has mean 2 and standard deviation 1, y has mean 2 and standard deviation 0.5, and the correlation between $x$ and $y$ is -0.5."
   ]
  },
  {
   "cell_type": "markdown",
   "metadata": {},
   "source": [
    "$$\\text{Mean}(\\mu_x, \\mu_y) = \\mu = \\begin{bmatrix} \\mu_x \\\\ \\mu_y) \\end{bmatrix} = \\begin{bmatrix} 2 \\\\ 2 \\end{bmatrix} $$\n",
    "\n",
    "$$\\sigma = \\begin{bmatrix} \\sigma_x \\\\ \\sigma_y) \\end{bmatrix} = \\begin{bmatrix} 1 \\\\ 0.5 \\end{bmatrix} $$\n",
    "\n",
    "$$\\text{corr}(x,y) = -0.5$$"
   ]
  },
  {
   "cell_type": "markdown",
   "metadata": {},
   "source": [
    "$$\\text{Covariance matrix} = \\sum_{} = \\begin{bmatrix} var(x) & cov(x,y) \\\\ cov(x,y) & var(y) \\end{bmatrix}$$"
   ]
  },
  {
   "cell_type": "markdown",
   "metadata": {},
   "source": [
    "$$\\sum_{} = \\begin{bmatrix} \\mu_x^2 & cov(x,y) \\\\ cov(x,y) & \\mu_y^2 \\end{bmatrix}$$\n",
    "\n",
    "$$\\text{cov}(x,y) = \\text{corr}(x,y)\\sigma_x \\sigma_y = (-0.5)(1)(0.5) = -0.25 $$\n",
    "\n",
    "$$\\sum_{} = \\begin{bmatrix} 4 & -0.25 \\\\ -0.25 & 4 \\end{bmatrix}$$"
   ]
  },
  {
   "cell_type": "markdown",
   "metadata": {},
   "source": [
    "#### b) $x$ has a mean 1 and standard deviation 1, and y is equal to x"
   ]
  },
  {
   "cell_type": "markdown",
   "metadata": {},
   "source": [
    "$$\\text{Mean}(\\mu_x, \\mu_y) = \\mu = \\begin{bmatrix} \\mu_x \\\\ \\mu_y) \\end{bmatrix} = \\begin{bmatrix} 1 \\\\ 1 \\end{bmatrix} $$\n",
    "\n",
    "$$\\sigma = \\begin{bmatrix} \\sigma_x \\\\ \\sigma_y) \\end{bmatrix} = \\begin{bmatrix} 1 \\\\ 1 \\end{bmatrix} $$\n",
    "\n",
    "$$\\text{corr}(x,y) = 1$$\n",
    "\n",
    "$$\\sum_{} = \\begin{bmatrix} \\mu_x^2 & cov(x,y) \\\\ cov(x,y) & \\mu_y^2 \\end{bmatrix}$$\n",
    "\n",
    "$$\\text{cov}(x,y) = \\text{corr}(x,y)\\sigma_x \\sigma_y = (1)(1)(1) = 1 $$\n",
    "\n",
    "$$\\sum_{} = \\begin{bmatrix} 1 & 1 \\\\ 1 & 1 \\end{bmatrix}$$"
   ]
  },
  {
   "cell_type": "markdown",
   "metadata": {},
   "source": [
    "### 6) Roughly sketch the shapes of the following Gaussians N(μ,Σ). For each, you only need to show a representative contour line which is qualitatively accurate (has approximately the right orientation, for instance).\n",
    "\n",
    "# insert stuff here"
   ]
  },
  {
   "cell_type": "markdown",
   "metadata": {},
   "source": [
    "### 7) Roughly sketch the shapes of the following Gaussians N(μ,Σ). For each, you only need to show a representative contour line which is qualitatively accurate (has approximately the right orientation, for instance)."
   ]
  },
  {
   "cell_type": "code",
   "execution_count": 9,
   "metadata": {
    "collapsed": false
   },
   "outputs": [
    {
     "name": "stdout",
     "output_type": "stream",
     "text": [
      "Checked answer for 6a\n"
     ]
    },
    {
     "data": {
      "text/plain": [
       "(-20, 20)"
      ]
     },
     "execution_count": 9,
     "metadata": {},
     "output_type": "execute_result"
    },
    {
     "data": {
      "image/png": "[encoded data removed]",
      "text/plain": [
       "<matplotlib.figure.Figure at 0x109082150>"
      ]
     },
     "metadata": {},
     "output_type": "display_data"
    }
   ],
   "source": [
    "from random import gauss\n",
    "\n",
    "print \"Checked answer for 6a\"\n",
    "mu = [0,0]\n",
    "sigma = np.array([[9,0],[0,1]])\n",
    "\n",
    "s = [gauss(mu, sigma) for a in range(100)] \n",
    "s = np.resize(s,(100,4))\n",
    "x,y = s[:,0], s[:,3]\n",
    "\n",
    "plt.scatter(x,y)\n",
    "plt.xlim(-20,20)\n",
    "plt.ylim(-20,20)"
   ]
  },
  {
   "cell_type": "code",
   "execution_count": null,
   "metadata": {
    "collapsed": true
   },
   "outputs": [],
   "source": [
    "mu1 = [0,0]\n",
    "sigma1 = np.array([[1,-.75],[-.75,1]])\n",
    "\n",
    "s1 = [gauss(mu1, sigma1) for a in range(100)] \n",
    "s1 = np.resize(s1,(100,4))\n",
    "x1,y1 = s1[:,0], s1[:,3]\n",
    "\n",
    "plt.scatter(x1,y1)\n",
    "plt.xlim(-4,4)\n",
    "plt.ylim(-4,4)"
   ]
  },
  {
   "cell_type": "markdown",
   "metadata": {},
   "source": [
    "### 8) Consider the linear classifier w · x ≥ θ, where\n",
    "$$w =\\begin{bmatrix} 3 \\\\ 4 \\end{bmatrix} \\text{ and } \\theta = 12.$$\n",
    "\n",
    "#### Sketch the decision boundary in $\\mathbb{R}^2$.  Make sure to label precisely where the boundar intersects the coordinate axes, and also indicate which side of the boundary is the positive side."
   ]
  },
  {
   "cell_type": "code",
   "execution_count": null,
   "metadata": {
    "collapsed": true
   },
   "outputs": [],
   "source": []
  }
 ],
 "metadata": {
  "kernelspec": {
   "display_name": "Python 2",
   "language": "python",
   "name": "python2"
  },
  "language_info": {
   "codemirror_mode": {
    "name": "ipython",
    "version": 2
   },
   "file_extension": ".py",
   "mimetype": "text/x-python",
   "name": "python",
   "nbconvert_exporter": "python",
   "pygments_lexer": "ipython2",
   "version": "2.7.11"
  }
 },
 "nbformat": 4,
 "nbformat_minor": 0
}
