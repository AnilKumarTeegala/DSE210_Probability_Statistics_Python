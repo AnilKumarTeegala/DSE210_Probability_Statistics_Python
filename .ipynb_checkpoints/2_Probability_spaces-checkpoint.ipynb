{
 "cells": [
  {
   "cell_type": "markdown",
   "metadata": {},
   "source": [
    "# Worksheet 2 Probability Spaces (1a,1b,1e,2,3,4a,5,6,7,14,16)\n",
    "# author: Michael Galarnyk\n"
   ]
  },
  {
   "cell_type": "markdown",
   "metadata": {},
   "source": [
    "1) Give a possible sample space $\\Omega$ for each of the follow experiments <p>\n",
    "(a) An election decides between two candidates A and B  <p>\n",
    "$\\Omega$ = {A,B} <p>\n",
    "\n",
    "(b) A two-sided coin is tossed. \n",
    "<p>$\\Omega$ = {H,T} <p>\n",
    "\n",
    "(e) You choose the color of your new car's exterior (choices: red, black, silver, green) and interior (choices: black, beige)?\n",
    "<p>\n",
    "$\\Omega$ = {red, black, silver, green} x {black, beige}"
   ]
  },
  {
   "cell_type": "markdown",
   "metadata": {
    "collapsed": true
   },
   "source": [
    "2) In each of the following situations, define the sample space $\\Omega$.\n",
    "\n",
    "(a) A fair coin is tossed 200 times in a row <p> \n",
    "$\\Omega$ = {H,T}$^{200}$ <p>\n",
    "\n",
    "(b) You count the number of people who enter a department store on a particular Sunday <p>\n",
    "$\\Omega$ = {All numbers from 0 to 6 billion} <p>\n",
    "\n",
    "(c) You open up <i> Hamlet </i> and pick a word at random <p>\n",
    "$\\Omega$ = {words in <i> Hamlet}"
   ]
  },
  {
   "cell_type": "markdown",
   "metadata": {},
   "source": [
    "3) Let A, B, and C be events defined on a particular sample $\\Omega$. Write expressions for the following combinations of events <p>\n",
    "(a) All three events occur. <p>\n",
    "A $\\cap$ B $\\cap$ C <p>\n",
    "(b) At least one of the events occurs <p>\n",
    "A $\\cup$ B $\\cup$ C <p>\n",
    "(c) A and B occur, but not C <p>\n",
    "A $\\cup$ B $\\cup$ C$^{c}$\n",
    " <p>"
   ]
  },
  {
   "cell_type": "markdown",
   "metadata": {},
   "source": [
    "4) Consider a sample space $\\Omega$ = {a,b,c} with probabilities Pr(a) = $\\frac{1}{2}$ and Pr(b) = $\\frac{1}{3}$\n",
    "<p>\n",
    "Pr(c) = 1 - $\\frac{1}{2}$ - $\\frac{1}{3}$ = $\\frac{1}{6}$\n",
    "<p>"
   ]
  },
  {
   "cell_type": "markdown",
   "metadata": {},
   "source": [
    "5) A fair coin is tossed three times in succession. Describe in words each of the following events on sample space {H,T}$^{3}$ <p>\n",
    "\n",
    "(a) E$_{1}$ = {HHH, HHT, HTH, HTT}\n",
    "<p> The first toss was a heads (Probability = $\\frac{1}{2}$) <p>\n",
    "(b) E$_{2}$ = {HHH, TTT}\n",
    "<p> All three come up the same (Probability = $\\frac{1}{4}$) <p>\n",
    "(c) E$_{3}$ = {HHT, HTH,THH}\n",
    "<P> Exactly 2 heads. (Probability = $\\frac{3}{8}$) <p>"
   ]
  },
  {
   "cell_type": "markdown",
   "metadata": {},
   "source": [
    "<img src=\"images/union_intersection.png\">"
   ]
  },
  {
   "cell_type": "markdown",
   "metadata": {},
   "source": [
    "6) Let A and B be events on a sample space $\\Omega$ such that Pr(A $\\cap$ B) = $\\frac{1}{4}$, Pr(A$^{c}$) = $\\frac{1}{3}$, and Pr(B) = $\\frac{1}{2}$. Here A$^{c}$ = $\\Omega$\\A is the event that A doesn't matter. What is Pr(A $\\cup$ B)?"
   ]
  },
  {
   "cell_type": "markdown",
   "metadata": {},
   "source": [
    "Pr(A $\\cup$ B) = Pr(A) + Pr(B) - Pr(A $\\cap$ B) = $\\frac{11}{12}$"
   ]
  },
  {
   "cell_type": "markdown",
   "metadata": {
    "collapsed": true
   },
   "source": [
    "7) A pair of dice is rolled. What is the probability that they show the same value <p>\n",
    "6$^{2}$ => $\\frac{1}{36}$"
   ]
  },
  {
   "cell_type": "markdown",
   "metadata": {},
   "source": [
    "14) A barrel contains 90 good apples and 10 rotten apples. If ten of the apples are chosen at random, what is the probability that they are all good? <p>\n",
    ".9$^{10}$ = 34.9%"
   ]
  },
  {
   "cell_type": "markdown",
   "metadata": {},
   "source": [
    "16) Assume that whenever a child is born, it is equally likely to be a girl or boy, independent of any earlier children. What is the probability that a randomly-chosen family with 6 children has exactly three girls and three boys? "
   ]
  },
  {
   "cell_type": "markdown",
   "metadata": {},
   "source": [
    "$$\\left(\n",
    "    \\begin{array}{c}\n",
    "      6 \\\\\n",
    "      3\n",
    "    \\end{array}\n",
    "  \\right) = |A|$$\n",
    "<p>\n",
    "$$|A| = \\frac{6!}{3!(6-3)!} = 20$$\n",
    "\n",
    "Pr(A) = $\\frac{|A|}{\\Omega}$ = $\\frac{20}{2^{6}}$ = $\\frac{5}{16}$"
   ]
  },
  {
   "cell_type": "code",
   "execution_count": null,
   "metadata": {
    "collapsed": true
   },
   "outputs": [],
   "source": []
  }
 ],
 "metadata": {
  "kernelspec": {
   "display_name": "Python 2",
   "language": "python",
   "name": "python2"
  },
  "language_info": {
   "codemirror_mode": {
    "name": "ipython",
    "version": 2
   },
   "file_extension": ".py",
   "mimetype": "text/x-python",
   "name": "python",
   "nbconvert_exporter": "python",
   "pygments_lexer": "ipython2",
   "version": "2.7.11"
  }
 },
 "nbformat": 4,
 "nbformat_minor": 0
}
