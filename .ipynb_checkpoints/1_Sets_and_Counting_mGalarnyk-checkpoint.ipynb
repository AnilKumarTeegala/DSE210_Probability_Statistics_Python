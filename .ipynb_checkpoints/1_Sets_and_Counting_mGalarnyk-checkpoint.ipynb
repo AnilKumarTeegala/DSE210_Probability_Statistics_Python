{
 "cells": [
  {
   "cell_type": "markdown",
   "metadata": {},
   "source": [
    "# Worksheet 1 Sets and Counting\n",
    "# author: Michael Galarnyk\n"
   ]
  },
  {
   "cell_type": "markdown",
   "metadata": {},
   "source": [
    "\n",
    "1) (a) Write down any set A of size A <p>\n",
    "\n",
    "A = {'a','b','c','d','e'}<p>\n",
    "\n",
    "(b) What is the formal notation for all sequences of three elements from A?\n",
    "\n",
    "A x A x A\n",
    "\n",
    "(c) How many such sequences are there, exactly? \n",
    "\n",
    "$$5^{2}$$"
   ]
  },
  {
   "cell_type": "markdown",
   "metadata": {
    "collapsed": true
   },
   "source": [
    "2) How many binary sequences of length 500 are there? \n",
    "$$2^{500}$$"
   ]
  },
  {
   "cell_type": "markdown",
   "metadata": {},
   "source": [
    "3) A and B are sets with |A| = 3 and |B| = 4 <p>\n",
    "(a) What is the largest size A $\\cup$ B <p>\n",
    "7 <p>\n",
    "(b) What is the smallest size A $\\cup$ B could possibly have? <p>\n",
    "4 <p>\n",
    "(c) Repeat for A $\\cap$ B <p>\n",
    "largest: 4 <p>\n",
    "smallest: 0 <p>"
   ]
  },
  {
   "cell_type": "markdown",
   "metadata": {},
   "source": [
    "4) A donkey, an ox, a goat, and a tiger need to cross a river. They have a boat that can only hold one animal, so they need to go one at a time. How many different orderings are there? \n",
    "<p>\n",
    "3! = 6 \n",
    "<p>"
   ]
  },
  {
   "cell_type": "markdown",
   "metadata": {},
   "source": [
    "5) How many sequences of 5 English characters are there? \n",
    "<p>$26^{5}$"
   ]
  },
  {
   "cell_type": "markdown",
   "metadata": {},
   "source": [
    "6) You have 10 good friends, and you want to choose 3 of them to accompany you on a trip. How many groups of three friends can you choose?\n",
    "<p>\n",
    "$$\\left(\n",
    "    \\begin{array}{c}\n",
    "      10 \\\\\n",
    "      3\n",
    "    \\end{array}\n",
    "  \\right) = \\frac{10!}{3!(10-3)!}$$\n"
   ]
  },
  {
   "cell_type": "code",
   "execution_count": 4,
   "metadata": {
    "collapsed": false
   },
   "outputs": [
    {
     "name": "stdout",
     "output_type": "stream",
     "text": [
      "The person can choose: 120\n"
     ]
    }
   ],
   "source": [
    "import scipy \n",
    "\n",
    "scipy.math.factorial(10) / (scipy.math.factorial(3) * scipy.math.factorial(7))\n",
    "print \"The person can choose:\", scipy.math.factorial(10) / (scipy.math.factorial(3) * scipy.math.factorial(7))"
   ]
  },
  {
   "cell_type": "code",
   "execution_count": null,
   "metadata": {
    "collapsed": true
   },
   "outputs": [],
   "source": []
  }
 ],
 "metadata": {
  "kernelspec": {
   "display_name": "Python 2",
   "language": "python",
   "name": "python2"
  },
  "language_info": {
   "codemirror_mode": {
    "name": "ipython",
    "version": 2
   },
   "file_extension": ".py",
   "mimetype": "text/x-python",
   "name": "python",
   "nbconvert_exporter": "python",
   "pygments_lexer": "ipython2",
   "version": "2.7.11"
  }
 },
 "nbformat": 4,
 "nbformat_minor": 0
}
