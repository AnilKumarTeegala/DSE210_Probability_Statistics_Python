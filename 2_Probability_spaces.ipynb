{
 "cells": [
  {
   "cell_type": "markdown",
   "metadata": {},
   "source": [
    "# Worksheet 2 Probability Spaces (1a,1b,1e,2,3,4a,5,6,7,14,16)\n",
    "# author: Michael Galarnyk\n"
   ]
  },
  {
   "cell_type": "markdown",
   "metadata": {},
   "source": [
    "1) Give a possible sample space $\\Omega$ for each of the follow experiments <p>\n",
    "(a) An election decides between two candidates A and B  <p>\n",
    "$\\Omega$ = {A,B} <p>\n",
    "\n",
    "(b) A two-sided coin is tossed. \n",
    "<p>$\\Omega$ = {H,T} <p>\n",
    "\n",
    "(e) You choose the color of your new car's exterior (choices: red, black, silver, green) and interior (choices: black, beige)?\n",
    "<p>\n",
    "$\\Omega$ = {red, black, silver, green} x {black, beige}}"
   ]
  },
  {
   "cell_type": "markdown",
   "metadata": {
    "collapsed": true
   },
   "source": [
    "2) In each of the following situations, define the sample space $\\Omega$.\n",
    "\n",
    "(a) A fair coin is tossed 200 times in a row <p> \n",
    "$\\Omega$ = {H,T}$^{200}$ <p>\n",
    "\n",
    "(b) You count the number of people who enter a department store on a particular Sunday <p>\n",
    "$\\Omega$ = {All numbers from 0 to 6 billion} <p>\n",
    "\n",
    "(c) You open up <i> Hamlet </i> and pick a word at random <p>\n",
    "$\\Omega$ = {words in <i> Hamlet}"
   ]
  },
  {
   "cell_type": "markdown",
   "metadata": {},
   "source": [
    "3) A and B are sets with |A| = 3 and |B| = 4 <p>\n",
    "(a) What is the largest size A $\\cup$ B <p>\n",
    "7 <p>\n",
    "(b) What is the smallest size A $\\cup$ B could possibly have? <p>\n",
    "4 <p>\n",
    "(c) Repeat for A $\\cap$ B <p>\n",
    "largest: 4 <p>\n",
    "smallest: 0 <p>"
   ]
  },
  {
   "cell_type": "markdown",
   "metadata": {},
   "source": [
    "4) A donkey, an ox, a goat, and a tiger need to cross a river. They have a boat that can only hold one animal, so they need to go one at a time. How many different orderings are there? \n",
    "<p>\n",
    "3! = 6 \n",
    "<p>"
   ]
  },
  {
   "cell_type": "markdown",
   "metadata": {},
   "source": [
    "5) How many sequences of 5 English characters are there? \n",
    "<p>$26^{5}$"
   ]
  },
  {
   "cell_type": "markdown",
   "metadata": {},
   "source": [
    "6) You have 10 good friends, and you want to choose 3 of them to accompany you on a trip. How many groups of three friends can you choose?\n",
    "<p>\n",
    "$$\\left(\n",
    "    \\begin{array}{c}\n",
    "      10 \\\\\n",
    "      3\n",
    "    \\end{array}\n",
    "  \\right) = \\frac{10!}{3!(10-3)!}$$\n"
   ]
  },
  {
   "cell_type": "code",
   "execution_count": 4,
   "metadata": {
    "collapsed": false
   },
   "outputs": [
    {
     "name": "stdout",
     "output_type": "stream",
     "text": [
      "The person can choose: 120\n"
     ]
    }
   ],
   "source": [
    "import scipy \n",
    "\n",
    "scipy.math.factorial(10) / (scipy.math.factorial(3) * scipy.math.factorial(7))\n",
    "print \"The person can choose:\", scipy.math.factorial(10) / (scipy.math.factorial(3) * scipy.math.factorial(7))"
   ]
  },
  {
   "cell_type": "code",
   "execution_count": null,
   "metadata": {
    "collapsed": true
   },
   "outputs": [],
   "source": []
  }
 ],
 "metadata": {
  "kernelspec": {
   "display_name": "Python 2",
   "language": "python",
   "name": "python2"
  },
  "language_info": {
   "codemirror_mode": {
    "name": "ipython",
    "version": 2
   },
   "file_extension": ".py",
   "mimetype": "text/x-python",
   "name": "python",
   "nbconvert_exporter": "python",
   "pygments_lexer": "ipython2",
   "version": "2.7.11"
  }
 },
 "nbformat": 4,
 "nbformat_minor": 0
}
